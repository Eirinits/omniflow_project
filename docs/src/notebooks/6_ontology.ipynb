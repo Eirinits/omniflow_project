{
 "cells": [
  {
   "cell_type": "markdown",
   "id": "55b5595c-fec9-41c3-b756-b95cd0c52048",
   "metadata": {},
   "source": [
    "# Connect to downstream Gene Ontology terms.\n",
    "\n",
    "This notebook showcases the functionality of Omniflow that connects the existing nodes of a network to a phenotype of interest. "
   ]
  },
  {
   "cell_type": "code",
   "execution_count": 1,
   "id": "3c317de8",
   "metadata": {},
   "outputs": [
    {
     "name": "stdout",
     "output_type": "stream",
     "text": [
      "CPU times: user 5.88 s, sys: 1.59 s, total: 7.46 s\n",
      "Wall time: 5.06 s\n"
     ]
    }
   ],
   "source": [
    "%%time\n",
    "from neko.core.network import Network\n",
    "from neko._visual.visualize_network import NetworkVisualizer\n",
    "from neko.inputs import Universe\n",
    "from neko._annotations.gene_ontology import Ontology\n",
    "import omnipath as op"
   ]
  },
  {
   "cell_type": "markdown",
   "id": "2910c871-fdfc-4d20-b76f-af213f06a3f0",
   "metadata": {},
   "source": [
    "### 1. Build network\n",
    "\n",
    "Please see the [Network building](https://omniflow-project.readthedocs.io/en/latest/notebooks/network_building.html) tutorial for detailed explanations of each step."
   ]
  },
  {
   "cell_type": "code",
   "execution_count": 2,
   "id": "79c09e13",
   "metadata": {},
   "outputs": [],
   "source": [
    "genes = [\"SRC\", \"NOTCH1\", \"FAK\"]"
   ]
  },
  {
   "cell_type": "code",
   "execution_count": 3,
   "id": "fcf68a99-8454-41e3-8816-c3f976d04c0b",
   "metadata": {},
   "outputs": [],
   "source": [
    "new_net1 = Network(genes, resources = 'omnipath')"
   ]
  },
  {
   "cell_type": "code",
   "execution_count": 4,
   "id": "370180cc",
   "metadata": {
    "scrolled": true
   },
   "outputs": [
    {
     "name": "stdout",
     "output_type": "stream",
     "text": [
      "CPU times: user 19.7 ms, sys: 123 µs, total: 19.8 ms\n",
      "Wall time: 19.6 ms\n"
     ]
    }
   ],
   "source": [
    "%%time\n",
    "new_net1.connect_nodes(only_signed=True, consensus_only=True)"
   ]
  },
  {
   "cell_type": "markdown",
   "id": "8ed135d3-9f71-4cec-9381-96c63fba766e",
   "metadata": {},
   "source": [
    "### 2. Connect to Gene Ontology (GO) term\n",
    "\n",
    "Connect the nodes of the Network with markers of a certain phenotype, from Gene Ontology. \n",
    "\n",
    "The _connect_genes_to_phenotype_ function will look for interactions between the nodes of the network and genes annotated with a GO term of interest. The argument _compress_ replaces the individual phenotype-specific genes into one phenotype node.\n",
    "\n",
    "<div class=\"alert alert-info\">\n",
    "\n",
    "**Note**\n",
    "    \n",
    "We suggest to the users to choose gene ontology terms lower in the hierarcy (e.g., execution phase of apoptosis _versus_ apoptosis) to avoid the inclusion of too many genes.\n",
    "\n",
    "</div>  "
   ]
  },
  {
   "cell_type": "code",
   "execution_count": 5,
   "id": "fa499a38-c22a-4a0e-b1d4-3ffb10e4a370",
   "metadata": {
    "scrolled": true
   },
   "outputs": [
    {
     "name": "stdout",
     "output_type": "stream",
     "text": [
      "Start requesting genes from Gene Ontology\n",
      "Fetching from:  https://golr-aux.geneontology.io/solr/select?defType=edismax&qt=standard&indent=on&wt=csv&rows=100000&start=0&fl=bioentity_label&facet=true&facet.mincount=1&facet.sort=count&json.nl=arrarr&facet.limit=25&hl=true&hl.simple.pre=%3Cem%20class=%22hilite%22%3E&hl.snippets=1000&csv.encapsulator=&csv.separator=%09&csv.header=false&csv.mv.separator=%7C&fq=document_category:%22annotation%22&fq=isa_partof_closure:%22GO:0001837%22&fq=taxon_subset_closure_label:%22Homo%20sapiens%22&fq=type:%22protein%22&fq=annotation_class_label:%22epithelial%20to%20mesenchymal%20transition%22&facet.field=aspect&facet.field=taxon_subset_closure_label&facet.field=type&facet.field=evidence_subset_closure_label&facet.field=regulates_closure_label&facet.field=isa_partof_closure_label&facet.field=annotation_class_label&facet.field=qualifier&facet.field=annotation_extension_class_closure_label&facet.field=assigned_by&facet.field=panther_family_label&q=*:*\n",
      "Done\n",
      "Starting connecting network's nodes to:  ['DACT3', 'SNAI1', 'RBPJ', 'ROCK2', 'TGFBR2', 'RFLNB', 'AKNA', 'GSK3B', 'WNT5A', 'NOTCH1', 'LOXL3', 'BMP7', 'FLNA', 'FAM83D', 'TRIM28', 'AMELX', 'EPB41L5', 'SLC39A6', 'DLG5', 'ROCK1', 'SOX9', 'ENG', 'SP6', 'SLC39A10', 'FOXF2', 'FGFR1', 'WNT11', 'NCAM1', 'BMP2', 'HNRNPAB', 'HMGA2', 'LIMS1', 'IGF1', 'CTNNB1', 'DDX5', 'TGFB1', 'TGFB2', 'TGFBR3L', 'SMAD4', 'PPP3R1', 'S100A4', 'FGFR2', 'NOG', 'CUL7', 'HGF', 'NOTCH4', 'WNT4', 'TGFBR3', 'TGFBR1', 'LEF1', 'HIF1A', 'DDX17', 'SNAI2', 'LOXL2']\n",
      "CPU times: user 414 ms, sys: 4.23 ms, total: 419 ms\n",
      "Wall time: 1.44 s\n"
     ]
    }
   ],
   "source": [
    "%%time\n",
    "new_net1.connect_genes_to_phenotype(id_accession=\"GO:0001837\", phenotype=\"epithelial to mesenchymal transition\", only_signed=True, compress=True, maxlen=1)"
   ]
  },
  {
   "cell_type": "code",
   "execution_count": 6,
   "id": "33300268-bcf6-442b-97be-c7718922a939",
   "metadata": {
    "scrolled": true
   },
   "outputs": [
    {
     "data": {
      "image/svg+xml": [
       "<?xml version=\"1.0\" encoding=\"UTF-8\" standalone=\"no\"?>\n",
       "<!DOCTYPE svg PUBLIC \"-//W3C//DTD SVG 1.1//EN\"\n",
       " \"http://www.w3.org/Graphics/SVG/1.1/DTD/svg11.dtd\">\n",
       "<!-- Generated by graphviz version 2.43.0 (0)\n",
       " -->\n",
       "<!-- Title: %3 Pages: 1 -->\n",
       "<svg width=\"378pt\" height=\"188pt\"\n",
       " viewBox=\"0.00 0.00 378.47 188.00\" xmlns=\"http://www.w3.org/2000/svg\" xmlns:xlink=\"http://www.w3.org/1999/xlink\">\n",
       "<g id=\"graph0\" class=\"graph\" transform=\"scale(1 1) rotate(0) translate(4 184)\">\n",
       "<title>%3</title>\n",
       "<polygon fill=\"white\" stroke=\"transparent\" points=\"-4,4 -4,-184 374.47,-184 374.47,4 -4,4\"/>\n",
       "<!-- SRC -->\n",
       "<g id=\"node1\" class=\"node\">\n",
       "<title>SRC</title>\n",
       "<ellipse fill=\"lightgray\" stroke=\"black\" cx=\"113.23\" cy=\"-162\" rx=\"30.59\" ry=\"18\"/>\n",
       "<text text-anchor=\"middle\" x=\"113.23\" y=\"-158.3\" font-family=\"Times,serif\" font-size=\"14.00\">SRC</text>\n",
       "</g>\n",
       "<!-- PTK2 -->\n",
       "<g id=\"node2\" class=\"node\">\n",
       "<title>PTK2</title>\n",
       "<ellipse fill=\"lightgray\" stroke=\"black\" cx=\"81.23\" cy=\"-90\" rx=\"36\" ry=\"18\"/>\n",
       "<text text-anchor=\"middle\" x=\"81.23\" y=\"-86.3\" font-family=\"Times,serif\" font-size=\"14.00\">PTK2</text>\n",
       "</g>\n",
       "<!-- SRC&#45;&gt;PTK2 -->\n",
       "<g id=\"edge1\" class=\"edge\">\n",
       "<title>SRC&#45;&gt;PTK2</title>\n",
       "<path fill=\"none\" stroke=\"green\" d=\"M105.65,-144.41C101.92,-136.25 97.33,-126.22 93.15,-117.07\"/>\n",
       "<polygon fill=\"green\" stroke=\"green\" points=\"96.33,-115.6 88.98,-107.96 89.96,-118.51 96.33,-115.6\"/>\n",
       "</g>\n",
       "<!-- epithelial_to_mesenchymal_transition -->\n",
       "<g id=\"node3\" class=\"node\">\n",
       "<title>epithelial_to_mesenchymal_transition</title>\n",
       "<ellipse fill=\"lightgray\" stroke=\"black\" cx=\"185.23\" cy=\"-18\" rx=\"185.47\" ry=\"18\"/>\n",
       "<text text-anchor=\"middle\" x=\"185.23\" y=\"-14.3\" font-family=\"Times,serif\" font-size=\"14.00\">epithelial_to_mesenchymal_transition</text>\n",
       "</g>\n",
       "<!-- SRC&#45;&gt;epithelial_to_mesenchymal_transition -->\n",
       "<g id=\"edge2\" class=\"edge\">\n",
       "<title>SRC&#45;&gt;epithelial_to_mesenchymal_transition</title>\n",
       "<path fill=\"none\" stroke=\"red\" d=\"M121.63,-144.43C134.61,-118.84 159.54,-69.68 174.03,-41.09\"/>\n",
       "<polygon fill=\"red\" stroke=\"red\" points=\"171.53,-34.98 180.45,-39.5 179.54,-41.28 170.62,-36.76 171.53,-34.98\"/>\n",
       "<polyline fill=\"none\" stroke=\"red\" points=\"176.44,-36.35 174.18,-40.81 \"/>\n",
       "</g>\n",
       "<!-- PTK2&#45;&gt;epithelial_to_mesenchymal_transition -->\n",
       "<g id=\"edge4\" class=\"edge\">\n",
       "<title>PTK2&#45;&gt;epithelial_to_mesenchymal_transition</title>\n",
       "<path fill=\"none\" stroke=\"purple\" d=\"M101.78,-75.17C115.47,-65.95 133.83,-53.6 149.84,-42.82\"/>\n",
       "<polygon fill=\"purple\" stroke=\"purple\" points=\"149.99,-42.72 152.74,-36.05 159.95,-36.02 157.2,-42.69 149.99,-42.72\"/>\n",
       "</g>\n",
       "<!-- NOTCH1 -->\n",
       "<g id=\"node4\" class=\"node\">\n",
       "<title>NOTCH1</title>\n",
       "<ellipse fill=\"lightgray\" stroke=\"black\" cx=\"225.23\" cy=\"-90\" rx=\"51.99\" ry=\"18\"/>\n",
       "<text text-anchor=\"middle\" x=\"225.23\" y=\"-86.3\" font-family=\"Times,serif\" font-size=\"14.00\">NOTCH1</text>\n",
       "</g>\n",
       "<!-- NOTCH1&#45;&gt;epithelial_to_mesenchymal_transition -->\n",
       "<g id=\"edge3\" class=\"edge\">\n",
       "<title>NOTCH1&#45;&gt;epithelial_to_mesenchymal_transition</title>\n",
       "<path fill=\"none\" stroke=\"green\" d=\"M210.16,-72.76C204.58,-64.61 198.57,-54.53 193.7,-45.31\"/>\n",
       "<polygon fill=\"green\" stroke=\"green\" points=\"196.72,-43.51 189.12,-36.12 190.46,-46.63 196.72,-43.51\"/>\n",
       "</g>\n",
       "<!-- NOTCH1&#45;&gt;epithelial_to_mesenchymal_transition -->\n",
       "<g id=\"edge5\" class=\"edge\">\n",
       "<title>NOTCH1&#45;&gt;epithelial_to_mesenchymal_transition</title>\n",
       "<path fill=\"none\" stroke=\"green\" d=\"M221.26,-71.7C217.45,-63.56 212.02,-53.69 206.45,-44.7\"/>\n",
       "<polygon fill=\"green\" stroke=\"green\" points=\"209.27,-42.61 200.9,-36.1 203.39,-46.4 209.27,-42.61\"/>\n",
       "</g>\n",
       "</g>\n",
       "</svg>\n"
      ],
      "text/plain": [
       "<graphviz.dot.Digraph at 0x7a0e7a3d0700>"
      ]
     },
     "metadata": {},
     "output_type": "display_data"
    }
   ],
   "source": [
    "#Visualize network\n",
    "visualizer1 = NetworkVisualizer(new_net1, color_by='effect')\n",
    "visualizer1.render()"
   ]
  },
  {
   "cell_type": "code",
   "execution_count": 7,
   "id": "7ba750f3-8440-4bf6-a37b-5c917f334fc9",
   "metadata": {},
   "outputs": [
    {
     "data": {
      "text/html": [
       "<div>\n",
       "<style scoped>\n",
       "    .dataframe tbody tr th:only-of-type {\n",
       "        vertical-align: middle;\n",
       "    }\n",
       "\n",
       "    .dataframe tbody tr th {\n",
       "        vertical-align: top;\n",
       "    }\n",
       "\n",
       "    .dataframe thead th {\n",
       "        text-align: right;\n",
       "    }\n",
       "</style>\n",
       "<table border=\"1\" class=\"dataframe\">\n",
       "  <thead>\n",
       "    <tr style=\"text-align: right;\">\n",
       "      <th></th>\n",
       "      <th>source</th>\n",
       "      <th>target</th>\n",
       "      <th>Type</th>\n",
       "      <th>Effect</th>\n",
       "      <th>References</th>\n",
       "    </tr>\n",
       "  </thead>\n",
       "  <tbody>\n",
       "    <tr>\n",
       "      <th>0</th>\n",
       "      <td>P12931</td>\n",
       "      <td>Q05397</td>\n",
       "      <td></td>\n",
       "      <td>stimulation</td>\n",
       "      <td>Adhesome:10085298;Adhesome:10592173;Adhesome:1...</td>\n",
       "    </tr>\n",
       "    <tr>\n",
       "      <th>1</th>\n",
       "      <td>P12931</td>\n",
       "      <td>epithelial_to_mesenchymal_transition</td>\n",
       "      <td></td>\n",
       "      <td>inhibition</td>\n",
       "      <td>ACSN:10593980;ACSN:12123611;ACSN:15782139;ACSN...</td>\n",
       "    </tr>\n",
       "    <tr>\n",
       "      <th>2</th>\n",
       "      <td>P46531</td>\n",
       "      <td>epithelial_to_mesenchymal_transition</td>\n",
       "      <td></td>\n",
       "      <td>stimulation</td>\n",
       "      <td>BioGRID:12644465;BioGRID:22143792;BioGRID:3096...</td>\n",
       "    </tr>\n",
       "    <tr>\n",
       "      <th>3</th>\n",
       "      <td>Q05397</td>\n",
       "      <td>epithelial_to_mesenchymal_transition</td>\n",
       "      <td></td>\n",
       "      <td>bimodal</td>\n",
       "      <td>nan</td>\n",
       "    </tr>\n",
       "    <tr>\n",
       "      <th>4</th>\n",
       "      <td>P46531</td>\n",
       "      <td>epithelial_to_mesenchymal_transition</td>\n",
       "      <td>NaN</td>\n",
       "      <td>stimulation</td>\n",
       "      <td>Gene Ontology</td>\n",
       "    </tr>\n",
       "  </tbody>\n",
       "</table>\n",
       "</div>"
      ],
      "text/plain": [
       "   source                                target Type       Effect  \\\n",
       "0  P12931                                Q05397       stimulation   \n",
       "1  P12931  epithelial_to_mesenchymal_transition        inhibition   \n",
       "2  P46531  epithelial_to_mesenchymal_transition       stimulation   \n",
       "3  Q05397  epithelial_to_mesenchymal_transition           bimodal   \n",
       "4  P46531  epithelial_to_mesenchymal_transition  NaN  stimulation   \n",
       "\n",
       "                                          References  \n",
       "0  Adhesome:10085298;Adhesome:10592173;Adhesome:1...  \n",
       "1  ACSN:10593980;ACSN:12123611;ACSN:15782139;ACSN...  \n",
       "2  BioGRID:12644465;BioGRID:22143792;BioGRID:3096...  \n",
       "3                                                nan  \n",
       "4                                      Gene Ontology  "
      ]
     },
     "execution_count": 7,
     "metadata": {},
     "output_type": "execute_result"
    }
   ],
   "source": [
    "new_net1.edges"
   ]
  },
  {
   "cell_type": "code",
   "execution_count": null,
   "id": "ff7e1fd6-53fd-4985-9866-417b743486b2",
   "metadata": {},
   "outputs": [],
   "source": []
  }
 ],
 "metadata": {
  "kernelspec": {
   "display_name": "Python 3 (ipykernel)",
   "language": "python",
   "name": "python3"
  },
  "language_info": {
   "codemirror_mode": {
    "name": "ipython",
    "version": 3
   },
   "file_extension": ".py",
   "mimetype": "text/x-python",
   "name": "python",
   "nbconvert_exporter": "python",
   "pygments_lexer": "ipython3",
   "version": "3.10.14"
  }
 },
 "nbformat": 4,
 "nbformat_minor": 5
}
