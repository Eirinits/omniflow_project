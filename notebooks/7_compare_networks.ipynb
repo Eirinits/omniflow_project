{
 "cells": [
  {
   "cell_type": "markdown",
   "id": "55b5595c-fec9-41c3-b756-b95cd0c52048",
   "metadata": {},
   "source": [
    "# Usage\n",
    "\n",
    "This notebook provides the steps to build a network starting from a list of genes, and using the default functionalities of Omniflow."
   ]
  },
  {
   "cell_type": "code",
   "execution_count": 1,
   "id": "3c317de8",
   "metadata": {},
   "outputs": [
    {
     "name": "stdout",
     "output_type": "stream",
     "text": [
      "CPU times: user 1.67 s, sys: 371 ms, total: 2.04 s\n",
      "Wall time: 2.11 s\n"
     ]
    }
   ],
   "source": [
    "%%time\n",
    "from omniflow_project.core.network import Network\n",
    "from omniflow_project._visual.visualize_network import NetworkVisualizer\n",
    "from omniflow_project._inputs.resources import Resources\n",
    "from omniflow_project._annotations.gene_ontology import Ontology\n",
    "import omnipath as op"
   ]
  },
  {
   "cell_type": "markdown",
   "id": "7fe1b7d5",
   "metadata": {},
   "source": [
    "## 1. Define the list of genes of interest"
   ]
  },
  {
   "cell_type": "code",
   "execution_count": 13,
   "id": "79c09e13",
   "metadata": {},
   "outputs": [],
   "source": [
    "genes = [\"SRC\", \"NOTCH1\", \"FAK\"]"
   ]
  },
  {
   "cell_type": "markdown",
   "id": "6a5b5adf",
   "metadata": {},
   "source": [
    "## 2. Create a network using as input the gene set. \n",
    "\n",
    "<div class=\"alert alert-info\">\n",
    "\n",
    "**Note**\n",
    "    \n",
    "NB! If no resource is specified, the default used resource by the package is `omnipath.all_interactions()`. To add new resources, please see the [Add resources](https://omniflow-project.readthedocs.io/en/latest/notebooks/add_resources.html#) tutorial. \n",
    "\n",
    "</div>  \n"
   ]
  },
  {
   "cell_type": "markdown",
   "id": "2910c871-fdfc-4d20-b76f-af213f06a3f0",
   "metadata": {},
   "source": [
    "### 2A. Import genes as network nodes"
   ]
  },
  {
   "cell_type": "code",
   "execution_count": 14,
   "id": "fcf68a99-8454-41e3-8816-c3f976d04c0b",
   "metadata": {},
   "outputs": [],
   "source": [
    "new_net1 = Network(genes)"
   ]
  },
  {
   "cell_type": "code",
   "execution_count": 15,
   "id": "316f5d85-db9c-402a-b285-439f1dba0167",
   "metadata": {},
   "outputs": [
    {
     "data": {
      "text/html": [
       "<div>\n",
       "<style scoped>\n",
       "    .dataframe tbody tr th:only-of-type {\n",
       "        vertical-align: middle;\n",
       "    }\n",
       "\n",
       "    .dataframe tbody tr th {\n",
       "        vertical-align: top;\n",
       "    }\n",
       "\n",
       "    .dataframe thead th {\n",
       "        text-align: right;\n",
       "    }\n",
       "</style>\n",
       "<table border=\"1\" class=\"dataframe\">\n",
       "  <thead>\n",
       "    <tr style=\"text-align: right;\">\n",
       "      <th></th>\n",
       "      <th>Genesymbol</th>\n",
       "      <th>Uniprot</th>\n",
       "      <th>Type</th>\n",
       "    </tr>\n",
       "  </thead>\n",
       "  <tbody>\n",
       "    <tr>\n",
       "      <th>0</th>\n",
       "      <td>SRC</td>\n",
       "      <td>P12931</td>\n",
       "      <td>NaN</td>\n",
       "    </tr>\n",
       "    <tr>\n",
       "      <th>1</th>\n",
       "      <td>NOTCH1</td>\n",
       "      <td>P46531</td>\n",
       "      <td>NaN</td>\n",
       "    </tr>\n",
       "    <tr>\n",
       "      <th>2</th>\n",
       "      <td>PTK2</td>\n",
       "      <td>Q05397</td>\n",
       "      <td>NaN</td>\n",
       "    </tr>\n",
       "  </tbody>\n",
       "</table>\n",
       "</div>"
      ],
      "text/plain": [
       "  Genesymbol Uniprot Type\n",
       "0        SRC  P12931  NaN\n",
       "1     NOTCH1  P46531  NaN\n",
       "2       PTK2  Q05397  NaN"
      ]
     },
     "execution_count": 15,
     "metadata": {},
     "output_type": "execute_result"
    }
   ],
   "source": [
    "new_net1.nodes"
   ]
  },
  {
   "cell_type": "markdown",
   "id": "a2759581",
   "metadata": {},
   "source": [
    "### 2B. Explore if the nodes are connected without introducing new intermidiate nodes"
   ]
  },
  {
   "cell_type": "code",
   "execution_count": 5,
   "id": "a339705b",
   "metadata": {},
   "outputs": [
    {
     "name": "stdout",
     "output_type": "stream",
     "text": [
      "CPU times: user 103 ms, sys: 399 µs, total: 103 ms\n",
      "Wall time: 102 ms\n"
     ]
    }
   ],
   "source": [
    "%%time\n",
    "new_net1.connect_nodes(only_signed=True, consensus_only=True)"
   ]
  },
  {
   "cell_type": "markdown",
   "id": "2fb5674d",
   "metadata": {},
   "source": [
    "### 2C. Visualize the network with the following command. \n",
    "\n",
    "The network picture is also exported in the working repository, in pdf format."
   ]
  },
  {
   "cell_type": "code",
   "execution_count": 6,
   "id": "9a07d77b",
   "metadata": {},
   "outputs": [
    {
     "name": "stdout",
     "output_type": "stream",
     "text": [
      "CPU times: user 14.9 s, sys: 20 ms, total: 14.9 s\n",
      "Wall time: 14.9 s\n"
     ]
    }
   ],
   "source": [
    "%%time\n",
    "new_net1.complete_connection(maxlen=3, k_mean=\"tight\", only_signed=True, connect_node_when_first_introduced=True, consensus=True)"
   ]
  },
  {
   "cell_type": "code",
   "execution_count": 7,
   "id": "e9c2bcf5-15d8-4732-9ad9-edffa0938237",
   "metadata": {},
   "outputs": [],
   "source": [
    "new_net2 = Network(genes)\n",
    "new_net2.connect_nodes(only_signed=True, consensus_only=True)\n",
    "new_net2.complete_connection(maxlen=5, k_mean=\"tight\", only_signed=True, connect_node_when_first_introduced=True, consensus=True)"
   ]
  },
  {
   "cell_type": "code",
   "execution_count": 23,
   "id": "1d97ec69-b05d-453a-bc50-568d0575fa6e",
   "metadata": {},
   "outputs": [],
   "source": []
  },
  {
   "cell_type": "code",
   "execution_count": 8,
   "id": "61487da7-c3c6-4418-a880-6a5b4427539d",
   "metadata": {},
   "outputs": [],
   "source": [
    "import pandas as pd\n",
    "\n",
    "def compare_networks(net1, net2):\n",
    "    # Reset index for both DataFrames\n",
    "    net1_edges_reset = net1.edges.reset_index(drop=True)\n",
    "    net2_edges_reset = net2.edges.reset_index(drop=True)\n",
    "    \n",
    "    # Find rows in net1.edges not in net2.edges\n",
    "    unique_net1 = net1_edges_reset.merge(net2_edges_reset, how='left', indicator=True).loc[lambda x: x['_merge'] == 'left_only'].drop(columns='_merge')\n",
    "    \n",
    "    # Find rows in net2.edges not in net1.edges\n",
    "    unique_net2 = net2_edges_reset.merge(net1_edges_reset, how='left', indicator=True).loc[lambda x: x['_merge'] == 'left_only'].drop(columns='_merge')\n",
    "\n",
    "    net1_flt = net1.copy()\n",
    "    net2_flt = net2.copy()\n",
    "    # Filter original DataFrames\n",
    "    net1_flt.edges = net1_flt.edges[~net1_flt.edges.isin(unique_net1)].dropna()\n",
    "    net2_flt.edges = net2_flt.edges[~net2_flt.edges.isin(unique_net2)].dropna()\n",
    "    \n",
    "    return net1_flt, net2_flt\n"
   ]
  },
  {
   "cell_type": "code",
   "execution_count": 8,
   "id": "9e996d67-b711-4dd9-872b-5622d106321e",
   "metadata": {},
   "outputs": [],
   "source": [
    "import pandas as pd\n",
    "\n",
    "def compare_networks(net1, net2):\n",
    "    unique_net1 = net1.edges.merge(net2.edges, how='left', indicator=True).loc[lambda x: x['_merge'] == 'left_only'].drop(columns='_merge')\n",
    "    unique_net2 = net2.edges.merge(net2.edges, how='left', indicator=True).loc[lambda x: x['_merge'] == 'left_only'].drop(columns='_merge')\n",
    "    print(len(unique_net1))  \n",
    "    print(len(unique_net2))  \n",
    "\n",
    "    net1.edges = net1.edges[~net1.edges.isin(unique_net1)].dropna()\n",
    "    net2.edges = net2.edges[~net2.edges.isin(unique_net2)].dropna()\n",
    "    \n",
    "    return  net1.edges,net2.edges"
   ]
  },
  {
   "cell_type": "code",
   "execution_count": 9,
   "id": "bde4e710-1656-472b-8145-369f95500f56",
   "metadata": {},
   "outputs": [
    {
     "data": {
      "text/plain": [
       "(<omniflow_project.core.network.Network at 0x7f38fd559030>,\n",
       " <omniflow_project.core.network.Network at 0x7f39610a0730>)"
      ]
     },
     "execution_count": 9,
     "metadata": {},
     "output_type": "execute_result"
    }
   ],
   "source": [
    "compare_networks(new_net1,new_net2)"
   ]
  },
  {
   "cell_type": "code",
   "execution_count": 12,
   "id": "86f72065-1ffe-42ad-a0c0-c72e56e7ebc1",
   "metadata": {},
   "outputs": [
    {
     "data": {
      "text/html": [
       "<div>\n",
       "<style scoped>\n",
       "    .dataframe tbody tr th:only-of-type {\n",
       "        vertical-align: middle;\n",
       "    }\n",
       "\n",
       "    .dataframe tbody tr th {\n",
       "        vertical-align: top;\n",
       "    }\n",
       "\n",
       "    .dataframe thead th {\n",
       "        text-align: right;\n",
       "    }\n",
       "</style>\n",
       "<table border=\"1\" class=\"dataframe\">\n",
       "  <thead>\n",
       "    <tr style=\"text-align: right;\">\n",
       "      <th></th>\n",
       "      <th>Genesymbol</th>\n",
       "      <th>Uniprot</th>\n",
       "      <th>Type</th>\n",
       "    </tr>\n",
       "  </thead>\n",
       "  <tbody>\n",
       "    <tr>\n",
       "      <th>0</th>\n",
       "      <td>SRC</td>\n",
       "      <td>P12931</td>\n",
       "      <td>NaN</td>\n",
       "    </tr>\n",
       "    <tr>\n",
       "      <th>1</th>\n",
       "      <td>NOTCH1</td>\n",
       "      <td>P46531</td>\n",
       "      <td>NaN</td>\n",
       "    </tr>\n",
       "    <tr>\n",
       "      <th>2</th>\n",
       "      <td>PTK2</td>\n",
       "      <td>Q05397</td>\n",
       "      <td>NaN</td>\n",
       "    </tr>\n",
       "    <tr>\n",
       "      <th>3</th>\n",
       "      <td>DAB1</td>\n",
       "      <td>O75553</td>\n",
       "      <td>NaN</td>\n",
       "    </tr>\n",
       "    <tr>\n",
       "      <th>4</th>\n",
       "      <td>CTNNB1</td>\n",
       "      <td>P35222</td>\n",
       "      <td>NaN</td>\n",
       "    </tr>\n",
       "    <tr>\n",
       "      <th>5</th>\n",
       "      <td>ITGB4</td>\n",
       "      <td>P16144</td>\n",
       "      <td>NaN</td>\n",
       "    </tr>\n",
       "    <tr>\n",
       "      <th>6</th>\n",
       "      <td>PTPRH</td>\n",
       "      <td>Q9HD43</td>\n",
       "      <td>NaN</td>\n",
       "    </tr>\n",
       "    <tr>\n",
       "      <th>7</th>\n",
       "      <td>ITGB7</td>\n",
       "      <td>P26010</td>\n",
       "      <td>NaN</td>\n",
       "    </tr>\n",
       "    <tr>\n",
       "      <th>8</th>\n",
       "      <td>CSK</td>\n",
       "      <td>P41240</td>\n",
       "      <td>NaN</td>\n",
       "    </tr>\n",
       "    <tr>\n",
       "      <th>9</th>\n",
       "      <td>BCAR1</td>\n",
       "      <td>P56945</td>\n",
       "      <td>NaN</td>\n",
       "    </tr>\n",
       "    <tr>\n",
       "      <th>10</th>\n",
       "      <td>SMAD3</td>\n",
       "      <td>P84022</td>\n",
       "      <td>NaN</td>\n",
       "    </tr>\n",
       "    <tr>\n",
       "      <th>11</th>\n",
       "      <td>LCK</td>\n",
       "      <td>P06239</td>\n",
       "      <td>NaN</td>\n",
       "    </tr>\n",
       "  </tbody>\n",
       "</table>\n",
       "</div>"
      ],
      "text/plain": [
       "   Genesymbol Uniprot Type\n",
       "0         SRC  P12931  NaN\n",
       "1      NOTCH1  P46531  NaN\n",
       "2        PTK2  Q05397  NaN\n",
       "3        DAB1  O75553  NaN\n",
       "4      CTNNB1  P35222  NaN\n",
       "5       ITGB4  P16144  NaN\n",
       "6       PTPRH  Q9HD43  NaN\n",
       "7       ITGB7  P26010  NaN\n",
       "8         CSK  P41240  NaN\n",
       "9       BCAR1  P56945  NaN\n",
       "10      SMAD3  P84022  NaN\n",
       "11        LCK  P06239  NaN"
      ]
     },
     "execution_count": 12,
     "metadata": {},
     "output_type": "execute_result"
    }
   ],
   "source": [
    "new_net1.nodes"
   ]
  },
  {
   "cell_type": "markdown",
   "id": "c6510316-2f47-4e71-89e0-b93da0657897",
   "metadata": {},
   "source": [
    "## 3. Visualize final network"
   ]
  },
  {
   "cell_type": "code",
   "execution_count": 11,
   "id": "c3e1190e-8dec-4faa-9cfc-9f046289a4bf",
   "metadata": {},
   "outputs": [
    {
     "data": {
      "image/svg+xml": [
       "<?xml version=\"1.0\" encoding=\"UTF-8\" standalone=\"no\"?>\n",
       "<!DOCTYPE svg PUBLIC \"-//W3C//DTD SVG 1.1//EN\"\n",
       " \"http://www.w3.org/Graphics/SVG/1.1/DTD/svg11.dtd\">\n",
       "<!-- Generated by graphviz version 2.43.0 (0)\n",
       " -->\n",
       "<!-- Title: %3 Pages: 1 -->\n",
       "<svg width=\"1172pt\" height=\"44pt\"\n",
       " viewBox=\"0.00 0.00 1171.84 44.00\" xmlns=\"http://www.w3.org/2000/svg\" xmlns:xlink=\"http://www.w3.org/1999/xlink\">\n",
       "<g id=\"graph0\" class=\"graph\" transform=\"scale(1 1) rotate(0) translate(4 40)\">\n",
       "<title>%3</title>\n",
       "<polygon fill=\"white\" stroke=\"transparent\" points=\"-4,4 -4,-40 1167.84,-40 1167.84,4 -4,4\"/>\n",
       "<!-- SRC -->\n",
       "<g id=\"node1\" class=\"node\">\n",
       "<title>SRC</title>\n",
       "<ellipse fill=\"lightgray\" stroke=\"black\" cx=\"30.55\" cy=\"-18\" rx=\"30.59\" ry=\"18\"/>\n",
       "<text text-anchor=\"middle\" x=\"30.55\" y=\"-14.3\" font-family=\"Times,serif\" font-size=\"14.00\">SRC</text>\n",
       "</g>\n",
       "<!-- NOTCH1 -->\n",
       "<g id=\"node2\" class=\"node\">\n",
       "<title>NOTCH1</title>\n",
       "<ellipse fill=\"lightgray\" stroke=\"black\" cx=\"131.55\" cy=\"-18\" rx=\"51.99\" ry=\"18\"/>\n",
       "<text text-anchor=\"middle\" x=\"131.55\" y=\"-14.3\" font-family=\"Times,serif\" font-size=\"14.00\">NOTCH1</text>\n",
       "</g>\n",
       "<!-- PTK2 -->\n",
       "<g id=\"node3\" class=\"node\">\n",
       "<title>PTK2</title>\n",
       "<ellipse fill=\"lightgray\" stroke=\"black\" cx=\"237.55\" cy=\"-18\" rx=\"36\" ry=\"18\"/>\n",
       "<text text-anchor=\"middle\" x=\"237.55\" y=\"-14.3\" font-family=\"Times,serif\" font-size=\"14.00\">PTK2</text>\n",
       "</g>\n",
       "<!-- DAB1 -->\n",
       "<g id=\"node4\" class=\"node\">\n",
       "<title>DAB1</title>\n",
       "<ellipse fill=\"lightgray\" stroke=\"black\" cx=\"328.55\" cy=\"-18\" rx=\"37.09\" ry=\"18\"/>\n",
       "<text text-anchor=\"middle\" x=\"328.55\" y=\"-14.3\" font-family=\"Times,serif\" font-size=\"14.00\">DAB1</text>\n",
       "</g>\n",
       "<!-- CTNNB1 -->\n",
       "<g id=\"node5\" class=\"node\">\n",
       "<title>CTNNB1</title>\n",
       "<ellipse fill=\"lightgray\" stroke=\"black\" cx=\"435.55\" cy=\"-18\" rx=\"51.99\" ry=\"18\"/>\n",
       "<text text-anchor=\"middle\" x=\"435.55\" y=\"-14.3\" font-family=\"Times,serif\" font-size=\"14.00\">CTNNB1</text>\n",
       "</g>\n",
       "<!-- ITGB4 -->\n",
       "<g id=\"node6\" class=\"node\">\n",
       "<title>ITGB4</title>\n",
       "<ellipse fill=\"lightgray\" stroke=\"black\" cx=\"545.55\" cy=\"-18\" rx=\"40.09\" ry=\"18\"/>\n",
       "<text text-anchor=\"middle\" x=\"545.55\" y=\"-14.3\" font-family=\"Times,serif\" font-size=\"14.00\">ITGB4</text>\n",
       "</g>\n",
       "<!-- PTPRH -->\n",
       "<g id=\"node7\" class=\"node\">\n",
       "<title>PTPRH</title>\n",
       "<ellipse fill=\"lightgray\" stroke=\"black\" cx=\"647.55\" cy=\"-18\" rx=\"44.39\" ry=\"18\"/>\n",
       "<text text-anchor=\"middle\" x=\"647.55\" y=\"-14.3\" font-family=\"Times,serif\" font-size=\"14.00\">PTPRH</text>\n",
       "</g>\n",
       "<!-- CSK -->\n",
       "<g id=\"node8\" class=\"node\">\n",
       "<title>CSK</title>\n",
       "<ellipse fill=\"lightgray\" stroke=\"black\" cx=\"740.55\" cy=\"-18\" rx=\"30.59\" ry=\"18\"/>\n",
       "<text text-anchor=\"middle\" x=\"740.55\" y=\"-14.3\" font-family=\"Times,serif\" font-size=\"14.00\">CSK</text>\n",
       "</g>\n",
       "<!-- LCK -->\n",
       "<g id=\"node9\" class=\"node\">\n",
       "<title>LCK</title>\n",
       "<ellipse fill=\"lightgray\" stroke=\"black\" cx=\"819.55\" cy=\"-18\" rx=\"30.59\" ry=\"18\"/>\n",
       "<text text-anchor=\"middle\" x=\"819.55\" y=\"-14.3\" font-family=\"Times,serif\" font-size=\"14.00\">LCK</text>\n",
       "</g>\n",
       "<!-- BCAR1 -->\n",
       "<g id=\"node10\" class=\"node\">\n",
       "<title>BCAR1</title>\n",
       "<ellipse fill=\"lightgray\" stroke=\"black\" cx=\"911.55\" cy=\"-18\" rx=\"43.59\" ry=\"18\"/>\n",
       "<text text-anchor=\"middle\" x=\"911.55\" y=\"-14.3\" font-family=\"Times,serif\" font-size=\"14.00\">BCAR1</text>\n",
       "</g>\n",
       "<!-- SMAD3 -->\n",
       "<g id=\"node11\" class=\"node\">\n",
       "<title>SMAD3</title>\n",
       "<ellipse fill=\"lightgray\" stroke=\"black\" cx=\"1019.55\" cy=\"-18\" rx=\"46.29\" ry=\"18\"/>\n",
       "<text text-anchor=\"middle\" x=\"1019.55\" y=\"-14.3\" font-family=\"Times,serif\" font-size=\"14.00\">SMAD3</text>\n",
       "</g>\n",
       "<!-- ITGB7 -->\n",
       "<g id=\"node12\" class=\"node\">\n",
       "<title>ITGB7</title>\n",
       "<ellipse fill=\"lightgray\" stroke=\"black\" cx=\"1123.55\" cy=\"-18\" rx=\"40.09\" ry=\"18\"/>\n",
       "<text text-anchor=\"middle\" x=\"1123.55\" y=\"-14.3\" font-family=\"Times,serif\" font-size=\"14.00\">ITGB7</text>\n",
       "</g>\n",
       "</g>\n",
       "</svg>\n"
      ],
      "text/plain": [
       "<graphviz.graphs.Digraph at 0x7f25e9869750>"
      ]
     },
     "metadata": {},
     "output_type": "display_data"
    }
   ],
   "source": [
    "#Visualize a specific nodes and \n",
    "visualizer1 = NetworkVisualizer(new_net1,color_by='effect')\n",
    "visualizer1.render(output_file='network2')"
   ]
  },
  {
   "cell_type": "code",
   "execution_count": 12,
   "id": "80b84e81-abc2-4aae-ad1c-3ebf00355b98",
   "metadata": {},
   "outputs": [
    {
     "data": {
      "image/svg+xml": [
       "<?xml version=\"1.0\" encoding=\"UTF-8\" standalone=\"no\"?>\n",
       "<!DOCTYPE svg PUBLIC \"-//W3C//DTD SVG 1.1//EN\"\n",
       " \"http://www.w3.org/Graphics/SVG/1.1/DTD/svg11.dtd\">\n",
       "<!-- Generated by graphviz version 2.43.0 (0)\n",
       " -->\n",
       "<!-- Title: %3 Pages: 1 -->\n",
       "<svg width=\"69pt\" height=\"44pt\"\n",
       " viewBox=\"0.00 0.00 69.09 44.00\" xmlns=\"http://www.w3.org/2000/svg\" xmlns:xlink=\"http://www.w3.org/1999/xlink\">\n",
       "<g id=\"graph0\" class=\"graph\" transform=\"scale(1 1) rotate(0) translate(4 40)\">\n",
       "<title>%3</title>\n",
       "<polygon fill=\"white\" stroke=\"transparent\" points=\"-4,4 -4,-40 65.09,-40 65.09,4 -4,4\"/>\n",
       "<!-- SRC -->\n",
       "<g id=\"node1\" class=\"node\">\n",
       "<title>SRC</title>\n",
       "<ellipse fill=\"lightgray\" stroke=\"black\" cx=\"30.55\" cy=\"-18\" rx=\"30.59\" ry=\"18\"/>\n",
       "<text text-anchor=\"middle\" x=\"30.55\" y=\"-14.3\" font-family=\"Times,serif\" font-size=\"14.00\">SRC</text>\n",
       "</g>\n",
       "</g>\n",
       "</svg>\n"
      ],
      "text/plain": [
       "<graphviz.graphs.Digraph at 0x7f25e986ba00>"
      ]
     },
     "metadata": {},
     "output_type": "display_data"
    }
   ],
   "source": [
    "#Visualize a specific nodes and \n",
    "visualizer1 = NetworkVisualizer(new_net1, predefined_node = \"SRC\",color_by='effect')\n",
    "visualizer1.render(output_file='network2')"
   ]
  },
  {
   "cell_type": "code",
   "execution_count": 13,
   "id": "0aa6d076-5310-462e-aa0e-f69da822b962",
   "metadata": {},
   "outputs": [
    {
     "data": {
      "text/html": [
       "<div>\n",
       "<style scoped>\n",
       "    .dataframe tbody tr th:only-of-type {\n",
       "        vertical-align: middle;\n",
       "    }\n",
       "\n",
       "    .dataframe tbody tr th {\n",
       "        vertical-align: top;\n",
       "    }\n",
       "\n",
       "    .dataframe thead th {\n",
       "        text-align: right;\n",
       "    }\n",
       "</style>\n",
       "<table border=\"1\" class=\"dataframe\">\n",
       "  <thead>\n",
       "    <tr style=\"text-align: right;\">\n",
       "      <th></th>\n",
       "      <th>source</th>\n",
       "      <th>target</th>\n",
       "      <th>Type</th>\n",
       "      <th>Effect</th>\n",
       "      <th>References</th>\n",
       "    </tr>\n",
       "  </thead>\n",
       "  <tbody>\n",
       "  </tbody>\n",
       "</table>\n",
       "</div>"
      ],
      "text/plain": [
       "Empty DataFrame\n",
       "Columns: [source, target, Type, Effect, References]\n",
       "Index: []"
      ]
     },
     "execution_count": 13,
     "metadata": {},
     "output_type": "execute_result"
    }
   ],
   "source": [
    "#We can access to the edges of the network\n",
    "new_net1.edges"
   ]
  }
 ],
 "metadata": {
  "kernelspec": {
   "display_name": "Python 3 (ipykernel)",
   "language": "python",
   "name": "python3"
  },
  "language_info": {
   "codemirror_mode": {
    "name": "ipython",
    "version": 3
   },
   "file_extension": ".py",
   "mimetype": "text/x-python",
   "name": "python",
   "nbconvert_exporter": "python",
   "pygments_lexer": "ipython3",
   "version": "3.10.12"
  }
 },
 "nbformat": 4,
 "nbformat_minor": 5
}
