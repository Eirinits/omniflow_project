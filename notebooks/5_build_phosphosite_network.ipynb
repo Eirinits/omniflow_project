{
 "cells": [
  {
   "cell_type": "markdown",
   "id": "4feb78a3-acc2-455c-b206-c37b7ea47932",
   "metadata": {},
   "source": [
    "# Build network based on kinase-phosphosite interactions\n",
    "\n",
    "This notebook provides the code to create a network based on kinase-substrate interactions and the annotated effect of phosphorylation (based on PhosphositePlus) on the activity of the substrate."
   ]
  },
  {
   "cell_type": "code",
   "execution_count": 1,
   "id": "3c317de8",
   "metadata": {},
   "outputs": [
    {
     "name": "stderr",
     "output_type": "stream",
     "text": [
      "/home/denes/.cache/pypoetry/virtualenvs/neko-JkLH1s9m-py3.11/lib/python3.11/site-packages/paramiko/pkey.py:100: CryptographyDeprecationWarning: TripleDES has been moved to cryptography.hazmat.decrepit.ciphers.algorithms.TripleDES and will be removed from this module in 48.0.0.\n",
      "  \"cipher\": algorithms.TripleDES,\n",
      "/home/denes/.cache/pypoetry/virtualenvs/neko-JkLH1s9m-py3.11/lib/python3.11/site-packages/paramiko/transport.py:259: CryptographyDeprecationWarning: TripleDES has been moved to cryptography.hazmat.decrepit.ciphers.algorithms.TripleDES and will be removed from this module in 48.0.0.\n",
      "  \"class\": algorithms.TripleDES,\n"
     ]
    },
    {
     "name": "stdout",
     "output_type": "stream",
     "text": [
      "CPU times: user 30.8 s, sys: 3.02 s, total: 33.8 s\n",
      "Wall time: 35.1 s\n"
     ]
    }
   ],
   "source": [
    "%%time\n",
    "from neko.core.network import Network\n",
    "from neko._visual.visualize_network import NetworkVisualizer\n",
    "from neko.inputs import Universe, phosphosite\n",
    "from neko._annotations.gene_ontology import Ontology\n",
    "import omnipath as op\n",
    "import pandas as pd"
   ]
  },
  {
   "cell_type": "markdown",
   "id": "e41d36f1-b603-4d04-bea5-972c03764c92",
   "metadata": {},
   "source": [
    "## 1. Specify kinase-substrate interaction file and phosphosite effect annotation\n",
    "\n",
    "In this example, both files we utilize are from PhosphositePlus."
   ]
  },
  {
   "cell_type": "code",
   "execution_count": 2,
   "id": "17d662bc-dc7f-4597-9a42-d9da7bdd1ed3",
   "metadata": {},
   "outputs": [],
   "source": [
    "kinase_int_file = (\"../neko/_data/Kinase_Substrate_Dataset\")\n",
    "phospho_effect_file = (\"../neko/_data/Regulatory_sites\")"
   ]
  },
  {
   "cell_type": "markdown",
   "id": "d0fd3a1c-8419-4aa7-a7bd-30f92df14c69",
   "metadata": {},
   "source": [
    "## 2. Add interactions as a resource database\n",
    "\n",
    "The *_process_psp_interactions_* function parses the provided files to create an interaction database in the Omnipath format."
   ]
  },
  {
   "cell_type": "code",
   "execution_count": 2,
   "id": "4d4cfe2f-fe7c-4764-9100-9543ac1a9a1b",
   "metadata": {},
   "outputs": [
    {
     "name": "stderr",
     "output_type": "stream",
     "text": [
      "WARNING:root:The incoming df is missing some required columns: {'is_directed', 'form_complex'}\n",
      "WARNING:root:This might lead to issues in running the package.\n"
     ]
    }
   ],
   "source": [
    "resources = phosphosite()"
   ]
  },
  {
   "cell_type": "code",
   "execution_count": 3,
   "id": "f9919d0b-0860-423d-8165-36569870e747",
   "metadata": {},
   "outputs": [
    {
     "data": {
      "text/html": [
       "<div>\n",
       "<style scoped>\n",
       "    .dataframe tbody tr th:only-of-type {\n",
       "        vertical-align: middle;\n",
       "    }\n",
       "\n",
       "    .dataframe tbody tr th {\n",
       "        vertical-align: top;\n",
       "    }\n",
       "\n",
       "    .dataframe thead th {\n",
       "        text-align: right;\n",
       "    }\n",
       "</style>\n",
       "<table border=\"1\" class=\"dataframe\">\n",
       "  <thead>\n",
       "    <tr style=\"text-align: right;\">\n",
       "      <th></th>\n",
       "      <th>source</th>\n",
       "      <th>target</th>\n",
       "      <th>is_inhibition</th>\n",
       "      <th>is_stimulation</th>\n",
       "    </tr>\n",
       "  </thead>\n",
       "  <tbody>\n",
       "    <tr>\n",
       "      <th>0</th>\n",
       "      <td>EIF2AK1</td>\n",
       "      <td>EIF2S1_S52</td>\n",
       "      <td>True</td>\n",
       "      <td>True</td>\n",
       "    </tr>\n",
       "    <tr>\n",
       "      <th>1</th>\n",
       "      <td>PRKCD</td>\n",
       "      <td>HDAC5_S259</td>\n",
       "      <td>True</td>\n",
       "      <td>True</td>\n",
       "    </tr>\n",
       "    <tr>\n",
       "      <th>2</th>\n",
       "      <td>PRKCD</td>\n",
       "      <td>PTPRA_S204</td>\n",
       "      <td>False</td>\n",
       "      <td>True</td>\n",
       "    </tr>\n",
       "    <tr>\n",
       "      <th>3</th>\n",
       "      <td>PRKCD</td>\n",
       "      <td>BCL2_S70</td>\n",
       "      <td>True</td>\n",
       "      <td>False</td>\n",
       "    </tr>\n",
       "    <tr>\n",
       "      <th>4</th>\n",
       "      <td>PRKCD</td>\n",
       "      <td>SLC9A1_S648</td>\n",
       "      <td>True</td>\n",
       "      <td>False</td>\n",
       "    </tr>\n",
       "    <tr>\n",
       "      <th>...</th>\n",
       "      <td>...</td>\n",
       "      <td>...</td>\n",
       "      <td>...</td>\n",
       "      <td>...</td>\n",
       "    </tr>\n",
       "    <tr>\n",
       "      <th>8827</th>\n",
       "      <td>NUAK1</td>\n",
       "      <td>PPP1R12A_S910</td>\n",
       "      <td>True</td>\n",
       "      <td>True</td>\n",
       "    </tr>\n",
       "    <tr>\n",
       "      <th>8828</th>\n",
       "      <td>NUAK1</td>\n",
       "      <td>TP53_S15</td>\n",
       "      <td>True</td>\n",
       "      <td>True</td>\n",
       "    </tr>\n",
       "    <tr>\n",
       "      <th>8829</th>\n",
       "      <td>ULK2</td>\n",
       "      <td>STING1_S366</td>\n",
       "      <td>False</td>\n",
       "      <td>True</td>\n",
       "    </tr>\n",
       "    <tr>\n",
       "      <th>8830</th>\n",
       "      <td>ULK2</td>\n",
       "      <td>BECN1_S30</td>\n",
       "      <td>False</td>\n",
       "      <td>True</td>\n",
       "    </tr>\n",
       "    <tr>\n",
       "      <th>8831</th>\n",
       "      <td>ULK2</td>\n",
       "      <td>PIK3C3_S249</td>\n",
       "      <td>True</td>\n",
       "      <td>True</td>\n",
       "    </tr>\n",
       "  </tbody>\n",
       "</table>\n",
       "<p>8832 rows × 4 columns</p>\n",
       "</div>"
      ],
      "text/plain": [
       "       source         target  is_inhibition  is_stimulation\n",
       "0     EIF2AK1     EIF2S1_S52           True            True\n",
       "1       PRKCD     HDAC5_S259           True            True\n",
       "2       PRKCD     PTPRA_S204          False            True\n",
       "3       PRKCD       BCL2_S70           True           False\n",
       "4       PRKCD    SLC9A1_S648           True           False\n",
       "...       ...            ...            ...             ...\n",
       "8827    NUAK1  PPP1R12A_S910           True            True\n",
       "8828    NUAK1       TP53_S15           True            True\n",
       "8829     ULK2    STING1_S366          False            True\n",
       "8830     ULK2      BECN1_S30          False            True\n",
       "8831     ULK2    PIK3C3_S249           True            True\n",
       "\n",
       "[8832 rows x 4 columns]"
      ]
     },
     "execution_count": 3,
     "metadata": {},
     "output_type": "execute_result"
    }
   ],
   "source": [
    "resources.interactions"
   ]
  },
  {
   "cell_type": "markdown",
   "id": "7fe1b7d5",
   "metadata": {},
   "source": [
    "## 3. Define a set of phosphosites we are interested in"
   ]
  },
  {
   "cell_type": "code",
   "execution_count": 4,
   "id": "a3fea926-81f1-4826-b91c-3b04124de715",
   "metadata": {},
   "outputs": [],
   "source": [
    "genes = ['AKT1S1_T246', 'GSK3B_S9', 'AKT1_S473', 'HSPB1_S78', 'HSPB1_S82', 'MAPK14_T180', 'MAPK14_Y182', 'MAP2K1_S218', 'MAP2K1_S222', 'RPS6KA1_S380', 'MTOR_S2448', 'JUN_S63', 'MAPK3_T202', 'MAPK3_Y204']"
   ]
  },
  {
   "cell_type": "markdown",
   "id": "59d3c824-ad97-43ae-9bf4-6657e7bcf72f",
   "metadata": {},
   "source": [
    "## 4. Build network"
   ]
  },
  {
   "cell_type": "code",
   "execution_count": 5,
   "id": "9c824c50",
   "metadata": {},
   "outputs": [
    {
     "name": "stderr",
     "output_type": "stream",
     "text": [
      "WARNING:root:The incoming df is missing some required columns: {'is_directed', 'form_complex'}\n",
      "WARNING:root:This might lead to issues in running the package.\n"
     ]
    },
    {
     "name": "stdout",
     "output_type": "stream",
     "text": [
      "CPU times: user 15.5 s, sys: 1.74 s, total: 17.3 s\n",
      "Wall time: 18 s\n"
     ]
    }
   ],
   "source": [
    "%%time\n",
    "new_net1 = Network(genes, resources=resources.interactions)"
   ]
  },
  {
   "cell_type": "markdown",
   "id": "65f04b49-f5dc-4fe1-bc20-7a4094f011b3",
   "metadata": {},
   "source": [
    "<div class=\"alert alert-info\">\n",
    "\n",
    "**Note**\n",
    "    \n",
    "Neko is based on UniProt IDs. It is still possible to use databases with other IDs, but an error message will appear during the translation progress, as in the example below.  \n",
    "\n",
    "</div>  "
   ]
  },
  {
   "cell_type": "code",
   "execution_count": 6,
   "id": "9a07d77b",
   "metadata": {},
   "outputs": [
    {
     "name": "stdout",
     "output_type": "stream",
     "text": [
      "CPU times: user 1.73 s, sys: 625 ms, total: 2.36 s\n",
      "Wall time: 2.59 s\n"
     ]
    }
   ],
   "source": [
    "%%time\n",
    "new_net1.complete_connection(algorithm= 'bfs',only_signed=True, connect_with_bias=True)"
   ]
  },
  {
   "cell_type": "code",
   "execution_count": 7,
   "id": "152b9434",
   "metadata": {},
   "outputs": [
    {
     "data": {
      "image/svg+xml": [
       "<?xml version=\"1.0\" encoding=\"UTF-8\" standalone=\"no\"?>\n",
       "<!DOCTYPE svg PUBLIC \"-//W3C//DTD SVG 1.1//EN\"\n",
       " \"http://www.w3.org/Graphics/SVG/1.1/DTD/svg11.dtd\">\n",
       "<!-- Generated by graphviz version 9.0.0 (0)\n",
       " -->\n",
       "<!-- Pages: 1 -->\n",
       "<svg width=\"2045pt\" height=\"44pt\"\n",
       " viewBox=\"0.00 0.00 2044.97 44.00\" xmlns=\"http://www.w3.org/2000/svg\" xmlns:xlink=\"http://www.w3.org/1999/xlink\">\n",
       "<g id=\"graph0\" class=\"graph\" transform=\"scale(1 1) rotate(0) translate(4 40)\">\n",
       "<polygon fill=\"white\" stroke=\"none\" points=\"-4,4 -4,-40 2040.97,-40 2040.97,4 -4,4\"/>\n",
       "<!-- AKT1S1_T246 -->\n",
       "<g id=\"node1\" class=\"node\">\n",
       "<title>AKT1S1_T246</title>\n",
       "<ellipse fill=\"lightgray\" stroke=\"black\" cx=\"68.24\" cy=\"-18\" rx=\"68.24\" ry=\"18\"/>\n",
       "<text text-anchor=\"middle\" x=\"68.24\" y=\"-12.95\" font-family=\"Times,serif\" font-size=\"14.00\">AKT1S1_T246</text>\n",
       "</g>\n",
       "<!-- GSK3B_S9 -->\n",
       "<g id=\"node2\" class=\"node\">\n",
       "<title>GSK3B_S9</title>\n",
       "<ellipse fill=\"lightgray\" stroke=\"black\" cx=\"209.24\" cy=\"-18\" rx=\"54.42\" ry=\"18\"/>\n",
       "<text text-anchor=\"middle\" x=\"209.24\" y=\"-12.95\" font-family=\"Times,serif\" font-size=\"14.00\">GSK3B_S9</text>\n",
       "</g>\n",
       "<!-- AKT1_S473 -->\n",
       "<g id=\"node3\" class=\"node\">\n",
       "<title>AKT1_S473</title>\n",
       "<ellipse fill=\"lightgray\" stroke=\"black\" cx=\"339.24\" cy=\"-18\" rx=\"58\" ry=\"18\"/>\n",
       "<text text-anchor=\"middle\" x=\"339.24\" y=\"-12.95\" font-family=\"Times,serif\" font-size=\"14.00\">AKT1_S473</text>\n",
       "</g>\n",
       "<!-- HSPB1_S78 -->\n",
       "<g id=\"node4\" class=\"node\">\n",
       "<title>HSPB1_S78</title>\n",
       "<ellipse fill=\"lightgray\" stroke=\"black\" cx=\"472.24\" cy=\"-18\" rx=\"57.49\" ry=\"18\"/>\n",
       "<text text-anchor=\"middle\" x=\"472.24\" y=\"-12.95\" font-family=\"Times,serif\" font-size=\"14.00\">HSPB1_S78</text>\n",
       "</g>\n",
       "<!-- HSPB1_S82 -->\n",
       "<g id=\"node5\" class=\"node\">\n",
       "<title>HSPB1_S82</title>\n",
       "<ellipse fill=\"lightgray\" stroke=\"black\" cx=\"605.24\" cy=\"-18\" rx=\"57.49\" ry=\"18\"/>\n",
       "<text text-anchor=\"middle\" x=\"605.24\" y=\"-12.95\" font-family=\"Times,serif\" font-size=\"14.00\">HSPB1_S82</text>\n",
       "</g>\n",
       "<!-- MAPK14_T180 -->\n",
       "<g id=\"node6\" class=\"node\">\n",
       "<title>MAPK14_T180</title>\n",
       "<ellipse fill=\"lightgray\" stroke=\"black\" cx=\"752.24\" cy=\"-18\" rx=\"71.31\" ry=\"18\"/>\n",
       "<text text-anchor=\"middle\" x=\"752.24\" y=\"-12.95\" font-family=\"Times,serif\" font-size=\"14.00\">MAPK14_T180</text>\n",
       "</g>\n",
       "<!-- MAPK14_Y182 -->\n",
       "<g id=\"node7\" class=\"node\">\n",
       "<title>MAPK14_Y182</title>\n",
       "<ellipse fill=\"lightgray\" stroke=\"black\" cx=\"914.24\" cy=\"-18\" rx=\"72.34\" ry=\"18\"/>\n",
       "<text text-anchor=\"middle\" x=\"914.24\" y=\"-12.95\" font-family=\"Times,serif\" font-size=\"14.00\">MAPK14_Y182</text>\n",
       "</g>\n",
       "<!-- MAP2K1_S218 -->\n",
       "<g id=\"node8\" class=\"node\">\n",
       "<title>MAP2K1_S218</title>\n",
       "<ellipse fill=\"lightgray\" stroke=\"black\" cx=\"1075.24\" cy=\"-18\" rx=\"70.8\" ry=\"18\"/>\n",
       "<text text-anchor=\"middle\" x=\"1075.24\" y=\"-12.95\" font-family=\"Times,serif\" font-size=\"14.00\">MAP2K1_S218</text>\n",
       "</g>\n",
       "<!-- MAP2K1_S222 -->\n",
       "<g id=\"node9\" class=\"node\">\n",
       "<title>MAP2K1_S222</title>\n",
       "<ellipse fill=\"lightgray\" stroke=\"black\" cx=\"1235.24\" cy=\"-18\" rx=\"70.8\" ry=\"18\"/>\n",
       "<text text-anchor=\"middle\" x=\"1235.24\" y=\"-12.95\" font-family=\"Times,serif\" font-size=\"14.00\">MAP2K1_S222</text>\n",
       "</g>\n",
       "<!-- RPS6KA1_S380 -->\n",
       "<g id=\"node10\" class=\"node\">\n",
       "<title>RPS6KA1_S380</title>\n",
       "<ellipse fill=\"lightgray\" stroke=\"black\" cx=\"1397.24\" cy=\"-18\" rx=\"73.36\" ry=\"18\"/>\n",
       "<text text-anchor=\"middle\" x=\"1397.24\" y=\"-12.95\" font-family=\"Times,serif\" font-size=\"14.00\">RPS6KA1_S380</text>\n",
       "</g>\n",
       "<!-- MTOR_S2448 -->\n",
       "<g id=\"node11\" class=\"node\">\n",
       "<title>MTOR_S2448</title>\n",
       "<ellipse fill=\"lightgray\" stroke=\"black\" cx=\"1555.24\" cy=\"-18\" rx=\"66.19\" ry=\"18\"/>\n",
       "<text text-anchor=\"middle\" x=\"1555.24\" y=\"-12.95\" font-family=\"Times,serif\" font-size=\"14.00\">MTOR_S2448</text>\n",
       "</g>\n",
       "<!-- JUN_S63 -->\n",
       "<g id=\"node12\" class=\"node\">\n",
       "<title>JUN_S63</title>\n",
       "<ellipse fill=\"lightgray\" stroke=\"black\" cx=\"1686.24\" cy=\"-18\" rx=\"46.75\" ry=\"18\"/>\n",
       "<text text-anchor=\"middle\" x=\"1686.24\" y=\"-12.95\" font-family=\"Times,serif\" font-size=\"14.00\">JUN_S63</text>\n",
       "</g>\n",
       "<!-- MAPK3_T202 -->\n",
       "<g id=\"node13\" class=\"node\">\n",
       "<title>MAPK3_T202</title>\n",
       "<ellipse fill=\"lightgray\" stroke=\"black\" cx=\"1817.24\" cy=\"-18\" rx=\"66.71\" ry=\"18\"/>\n",
       "<text text-anchor=\"middle\" x=\"1817.24\" y=\"-12.95\" font-family=\"Times,serif\" font-size=\"14.00\">MAPK3_T202</text>\n",
       "</g>\n",
       "<!-- MAPK3_Y204 -->\n",
       "<g id=\"node14\" class=\"node\">\n",
       "<title>MAPK3_Y204</title>\n",
       "<ellipse fill=\"lightgray\" stroke=\"black\" cx=\"1969.24\" cy=\"-18\" rx=\"67.73\" ry=\"18\"/>\n",
       "<text text-anchor=\"middle\" x=\"1969.24\" y=\"-12.95\" font-family=\"Times,serif\" font-size=\"14.00\">MAPK3_Y204</text>\n",
       "</g>\n",
       "</g>\n",
       "</svg>\n"
      ],
      "text/plain": [
       "<graphviz.dot.Digraph at 0x63f5bfbb54d0>"
      ]
     },
     "metadata": {},
     "output_type": "display_data"
    }
   ],
   "source": [
    "visualizer1 = NetworkVisualizer(new_net1, color_by='effect')\n",
    "visualizer1.render()"
   ]
  },
  {
   "cell_type": "code",
   "execution_count": null,
   "id": "d1902496-e08c-4628-bdb0-f4d0b83c82f3",
   "metadata": {},
   "outputs": [],
   "source": []
  }
 ],
 "metadata": {
  "kernelspec": {
   "display_name": "Python 3 (ipykernel)",
   "language": "python",
   "name": "python3"
  },
  "language_info": {
   "codemirror_mode": {
    "name": "ipython",
    "version": 3
   },
   "file_extension": ".py",
   "mimetype": "text/x-python",
   "name": "python",
   "nbconvert_exporter": "python",
   "pygments_lexer": "ipython3",
   "version": "3.11.6"
  }
 },
 "nbformat": 4,
 "nbformat_minor": 5
}
