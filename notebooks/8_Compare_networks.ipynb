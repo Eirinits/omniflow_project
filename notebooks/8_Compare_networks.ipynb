{
 "cells": [
  {
   "cell_type": "markdown",
   "id": "55b5595c-fec9-41c3-b756-b95cd0c52048",
   "metadata": {},
   "source": [
    "# Network comparison\n",
    "\n",
    "In some cases, it might be of interest to compare two networks with each other. For instance, you might want to compare an existing network with the Neko-generated network, or compare the resulting networks from two different network construction strategies.\n",
    "\n",
    "The following code shows the comparison of two networks, built with different input parameters of the `complete_connections` function."
   ]
  },
  {
   "cell_type": "code",
   "execution_count": 1,
   "id": "3c317de8",
   "metadata": {},
   "outputs": [
    {
     "name": "stdout",
     "output_type": "stream",
     "text": [
      "CPU times: user 10.9 s, sys: 410 ms, total: 11.3 s\n",
      "Wall time: 12.3 s\n"
     ]
    }
   ],
   "source": [
    "%%time\n",
    "from neko.core.network import Network\n",
    "from neko._visual.visualize_network import NetworkVisualizer\n",
    "from neko._inputs.resources import Resources\n",
    "from neko._annotations.gene_ontology import Ontology\n",
    "from neko._methods.compare import compare_networks\n",
    "import omnipath as op\n",
    "import pandas as pd\n",
    "from yfiles_jupyter_graphs import GraphWidget"
   ]
  },
  {
   "cell_type": "markdown",
   "id": "7fe1b7d5",
   "metadata": {},
   "source": [
    "## 1. Define the list of genes of interest"
   ]
  },
  {
   "cell_type": "code",
   "execution_count": 2,
   "id": "79c09e13",
   "metadata": {},
   "outputs": [],
   "source": [
    "genes = [\"SRC\", \"NOTCH1\", \"FAK\", \"CDH1\", \"CDH2\", \"VIM\", \"MAP4K4\", \"LATS1\", \"LATS2\", \"PTK2B\"]"
   ]
  },
  {
   "cell_type": "markdown",
   "id": "6a5b5adf",
   "metadata": {},
   "source": [
    "## 2. Create networks.\n",
    "\n",
    "Please refer to the `Usage` tutorial for a detailed explanation of each step.\n"
   ]
  },
  {
   "cell_type": "markdown",
   "id": "2910c871-fdfc-4d20-b76f-af213f06a3f0",
   "metadata": {},
   "source": [
    "### 2A. Build first network\n",
    "\n",
    "For the first network, we specify that we do not want to take into account the concensus sign (i.e. activation vs inhibition) for the interactions."
   ]
  },
  {
   "cell_type": "code",
   "execution_count": 3,
   "id": "fcf68a99-8454-41e3-8816-c3f976d04c0b",
   "metadata": {},
   "outputs": [],
   "source": [
    "new_net1 = Network(genes)\n",
    "new_net1.connect_nodes(only_signed=True, consensus_only=True)\n",
    "new_net1.complete_connection(maxlen=6, k_mean=\"tight\", only_signed=True, connect_node_when_first_introduced=True, consensus=False)"
   ]
  },
  {
   "cell_type": "markdown",
   "id": "82052e91-dd5a-451e-b83c-7df080c1a09b",
   "metadata": {},
   "source": [
    "### 2B. Build second network\n",
    "\n",
    "For the second network, we set the `consensus` argument to `True`."
   ]
  },
  {
   "cell_type": "code",
   "execution_count": 4,
   "id": "5d13c798-975b-43ef-a841-1fc6176578af",
   "metadata": {},
   "outputs": [],
   "source": [
    "new_net2 = Network(genes)\n",
    "new_net2.connect_nodes(only_signed=True, consensus_only=True)\n",
    "new_net2.complete_connection(maxlen=6, k_mean=\"tight\", only_signed=True, connect_node_when_first_introduced=True, consensus=True)"
   ]
  },
  {
   "cell_type": "markdown",
   "id": "017750d0-582d-4da5-a392-00eddb09e35f",
   "metadata": {},
   "source": [
    "## 3. Compare networks"
   ]
  },
  {
   "cell_type": "code",
   "execution_count": 6,
   "id": "381a43b7-032f-40f7-8846-924901ff0161",
   "metadata": {
    "scrolled": true
   },
   "outputs": [
    {
     "name": "stdout",
     "output_type": "stream",
     "text": [
      "    source  target           comparison\n",
      "0     ABL1  CTNNB1               Common\n",
      "1     ABL1  CTNND1  Unique to Network 2\n",
      "2     ABL1    EGFR  Unique to Network 2\n",
      "3     ABL1  MAP3K1               Common\n",
      "4     ABL1     MET  Unique to Network 2\n",
      "..     ...     ...                  ...\n",
      "199  WWTR1   RUNX2               Common\n",
      "200  WWTR1   SMAD3               Common\n",
      "201   YAP1  CTNNB1               Common\n",
      "202   YAP1    ITCH  Unique to Network 1\n",
      "203   YAP1   RUNX2               Common\n",
      "\n",
      "[204 rows x 3 columns]\n",
      "      node           comparison\n",
      "0    PRKCA  Unique to Network 1\n",
      "1    STAT3  Unique to Network 1\n",
      "2     TP53  Unique to Network 1\n",
      "3    HIF1A  Unique to Network 1\n",
      "4     CDON  Unique to Network 1\n",
      "5     ITCH  Unique to Network 1\n",
      "6     STK3  Unique to Network 2\n",
      "7    ITGAE  Unique to Network 2\n",
      "8      NF2  Unique to Network 2\n",
      "9      MET  Unique to Network 2\n",
      "10   PTPRH  Unique to Network 2\n",
      "11    EGFR  Unique to Network 2\n",
      "12   PRKD1  Unique to Network 2\n",
      "13   PTPN1  Unique to Network 2\n",
      "14   PDPK1  Unique to Network 2\n",
      "15   NUAK1  Unique to Network 2\n",
      "16   ITGB1  Unique to Network 2\n",
      "17   ITGB4  Unique to Network 2\n",
      "18  PPP2CA  Unique to Network 2\n",
      "19    STK4  Unique to Network 2\n",
      "20  CTNND1  Unique to Network 2\n",
      "21    RAF1  Unique to Network 2\n",
      "22    PTK2               Common\n",
      "23    ABL1               Common\n",
      "24   WWTR1               Common\n",
      "25   ITGB7               Common\n",
      "26   PRKCD               Common\n",
      "27    PAK2               Common\n",
      "28   SMAD3               Common\n",
      "29    CDH1               Common\n",
      "30   MAPK8               Common\n",
      "31   LATS2               Common\n",
      "32     SRC               Common\n",
      "33  CTNNB1               Common\n",
      "34  MAP3K7               Common\n",
      "35     CSK               Common\n",
      "36   LATS1               Common\n",
      "37   RUNX2               Common\n",
      "38  PRKACA               Common\n",
      "39  MAP3K1               Common\n",
      "40    YAP1               Common\n",
      "41    DAB1               Common\n",
      "42     VIM               Common\n",
      "43    CDH2               Common\n",
      "44  NOTCH1               Common\n",
      "45  AMOTL2               Common\n",
      "46    AKT1               Common\n",
      "47   PEBP1               Common\n",
      "48   PTK2B               Common\n",
      "49  MAP4K4               Common\n"
     ]
    }
   ],
   "source": [
    "interaction_comparison, node_comparison = compare_networks(new_net1, new_net2)\n",
    "print(interaction_comparison)\n",
    "print(node_comparison)"
   ]
  },
  {
   "cell_type": "code",
   "execution_count": 7,
   "id": "20b296c0-adf7-40ee-9767-6728ace0cc8b",
   "metadata": {},
   "outputs": [
    {
     "data": {
      "application/vnd.jupyter.widget-view+json": {
       "model_id": "df7472721e424dee9c1828d4202cbab7",
       "version_major": 2,
       "version_minor": 0
      },
      "text/plain": [
       "GraphWidget(layout=Layout(height='800px', width='100%'))"
      ]
     },
     "metadata": {},
     "output_type": "display_data"
    }
   ],
   "source": [
    "NetworkVisualizer.vis_comparison(interaction_comparison, node_comparison,\"hierarchic\", True)"
   ]
  }
 ],
 "metadata": {
  "kernelspec": {
   "display_name": "Python 3 (ipykernel)",
   "language": "python",
   "name": "python3"
  },
  "language_info": {
   "codemirror_mode": {
    "name": "ipython",
    "version": 3
   },
   "file_extension": ".py",
   "mimetype": "text/x-python",
   "name": "python",
   "nbconvert_exporter": "python",
   "pygments_lexer": "ipython3",
   "version": "3.10.12"
  }
 },
 "nbformat": 4,
 "nbformat_minor": 5
}
